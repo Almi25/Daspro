{
 "cells": [
  {
   "cell_type": "markdown",
   "id": "722f825d-7934-494e-b26a-d9fc006ca5e5",
   "metadata": {},
   "source": [
    "<h4>Buatlah program yang meminta pengguna memasukkan usia seseorang, lalu tentukan apakah dia\n",
    "anak-anak (0-12 tahun), remaja (13-17 tahun), dewasa (18-59 tahun), atau lansia (60 tahun ke atas).</h4>"
   ]
  },
  {
   "cell_type": "code",
   "execution_count": 7,
   "id": "61c25296-0c2c-4f7b-ab18-3cf37c706c85",
   "metadata": {},
   "outputs": [
    {
     "name": "stdin",
     "output_type": "stream",
     "text": [
      "Masukan usia: 20\n"
     ]
    },
    {
     "name": "stdout",
     "output_type": "stream",
     "text": [
      "dewasa usia 18 - 59 tahun\n"
     ]
    }
   ],
   "source": [
    "usia = int(input(\"Masukan usia:\"))\n",
    "\n",
    "if usia <= 12:\n",
    "    print(\"anak-anak usia 0 - 12 tahun\")\n",
    "elif usia <= 17:\n",
    "    print(\"remaja usia 13 - 17 tahun\")\n",
    "elif usia <= 59:\n",
    "    print(\"dewasa usia 18 - 59 tahun\")\n",
    "else:\n",
    "    print(\"lansia usia 60 tahun ke atas\")"
   ]
  },
  {
   "cell_type": "markdown",
   "id": "6bbcbfe1-36c1-4216-a4ba-b537e563cdf2",
   "metadata": {},
   "source": [
    "<h4>Sebuah taman hiburan memiliki aturan harga tiket berdasarkan usia:\n",
    "\n",
    "Anak-anak (0-12 tahun): Rp 10.000\n",
    "Remaja (13-17 tahun): Rp 15.000\n",
    "Dewasa (18-59 tahun): Rp 25.000\n",
    "Lansia (60 tahun ke atas): Gratis\n",
    "Buat program untuk menentukan harga tiket berdasarkan usia yang dimasukkan pengguna dan total harga yang harus dibayar, jika terdapat 3 input seperti berikut ini</h4>"
   ]
  },
  {
   "cell_type": "code",
   "execution_count": 1,
   "id": "35c59237-4364-48c1-822b-083e2205107a",
   "metadata": {},
   "outputs": [
    {
     "name": "stdin",
     "output_type": "stream",
     "text": [
      "Isikan Umur Tiket 1: 10\n",
      "Isikan Umur Tiket 2:  19\n",
      "Isikan Umur Tiket 3:  21\n"
     ]
    },
    {
     "name": "stdout",
     "output_type": "stream",
     "text": [
      "\n",
      "Harga tiket 1 adalah Rp 10000\n",
      "Harga tiket 2 adalah Rp 25000\n",
      "Harga tiket 3 adalah Rp 25000\n",
      "\n",
      "Total harga yang harus dibayar adalah Rp 60000\n"
     ]
    }
   ],
   "source": [
    "tiket1 = int(input(\"Isikan Umur Tiket 1:\"))\n",
    "tiket2 = int(input(\"Isikan Umur Tiket 2: \"))\n",
    "tiket3 = int(input(\"Isikan Umur Tiket 3: \"))\n",
    "\n",
    "# Tiket 1\n",
    "if tiket1 <= 12:\n",
    "    hargaTiket1 = 10000\n",
    "    print(f\"\\nHarga tiket 1 adalah Rp {hargaTiket1}\")\n",
    "elif tiket1 <= 17:\n",
    "    hargaTiket1 = 15000\n",
    "    print(f\"\\nHarga tiket 1 adalah Rp {hargaTiket1}\")\n",
    "elif tiket1 <= 59:\n",
    "    hargaTiket1 = 25000\n",
    "    print(f\"\\nHarga tiket 1 adalah Rp {hargaTiket1}\")\n",
    "else:\n",
    "    hargaTiket1 = 0\n",
    "    print(f\"\\nHarga tiket 1 adalah Rp {hargaTiket1}\")\n",
    "\n",
    "# Tiket 2\n",
    "if tiket2 <= 12:\n",
    "    hargaTiket2 = 10000\n",
    "    print(f\"Harga tiket 2 adalah Rp {hargaTiket2}\")\n",
    "elif tiket2 <= 17:\n",
    "    hargaTiket2 = 15000\n",
    "    print(f\"Harga tiket 2 adalah Rp {hargaTiket2}\")\n",
    "elif tiket2 <= 59:\n",
    "    hargaTiket2 = 25000\n",
    "    print(f\"Harga tiket 2 adalah Rp {hargaTiket2}\")\n",
    "else:\n",
    "    hargaTiket2 = 0\n",
    "    print(f\"Harga tiket 2 adalah Rp {hargaTiket2}\")\n",
    "\n",
    "# Tiket 3\n",
    "if tiket3 <= 12:\n",
    "    hargaTiket3 = 10000\n",
    "    print(f\"Harga tiket 3 adalah Rp {hargaTiket3}\")\n",
    "elif tiket3 <= 17:\n",
    "    hargaTiket3 = 15000\n",
    "    print(f\"Harga tiket 3 adalah Rp {hargaTiket3}\")\n",
    "elif tiket3 <= 59:\n",
    "    hargaTiket3 = 25000\n",
    "    print(f\"Harga tiket 3 adalah Rp {hargaTiket3}\")\n",
    "else:\n",
    "    hargaTiket3 = 0\n",
    "    print(f\"Harga tiket 3 adalah Rp {hargaTiket3}\")\n",
    "\n",
    "totalHarga = hargaTiket1 + hargaTiket2 + hargaTiket3\n",
    "print(f\"\\nTotal harga yang harus dibayar adalah Rp {totalHarga}\")"
   ]
  },
  {
   "cell_type": "markdown",
   "id": "5fcc2403-3b70-4b52-a599-c513905d84be",
   "metadata": {},
   "source": [
    "<h4>Sebuah restoran memiliki diskon khusus: Anak-anak (0-12 tahun) diskon 50% Lansia (60 tahun ke atas) diskon 30% Selain itu, tidak ada diskon Buat program untuk menghitung harga yang harus dibayar setelah diskon diberikan.</h4>"
   ]
  },
  {
   "cell_type": "code",
   "execution_count": 12,
   "id": "e7d43061-249f-41ca-9a89-03f4b2257780",
   "metadata": {},
   "outputs": [
    {
     "name": "stdin",
     "output_type": "stream",
     "text": [
      "Masukkan harga makanan:  10000\n",
      "Masukkan usia:  12\n"
     ]
    },
    {
     "name": "stdout",
     "output_type": "stream",
     "text": [
      "Harga makanan sebelum diskon: Rp 10000\n",
      "Anda mendapat diskon sebesar 50.0%\n",
      "Harga yang harus dibayar setelah mendapatkan diskon 50.0% adalah Rp 5000.0\n"
     ]
    }
   ],
   "source": [
    "hargaMakanan = int(input(\"Masukkan harga makanan: \"))\n",
    "usia = int(input(\"Masukkan usia: \"))\n",
    "\n",
    "if usia <= 12:\n",
    "    diskon = 0.50 # Anak-anak (0-12 tahun) diskon 50%\n",
    "elif usia >= 60:\n",
    "    diskon = 0.30 # Lansia (60 tahun ke atas) diskon 30%\n",
    "else:\n",
    "    diskon = 0 # Usia lainnya tidak ada diskon\n",
    "\n",
    "hargaSetelahDiskon = hargaMakanan * diskon\n",
    "hargaTotal = hargaMakanan - hargaSetelahDiskon\n",
    "\n",
    "print(f\"Harga makanan sebelum diskon: Rp {hargaMakanan}\")\n",
    "print(f\"Anda mendapat diskon sebesar {diskon * 100}%\")\n",
    "print(f\"Harga yang harus dibayar setelah mendapatkan diskon {diskon * 100}% adalah Rp {hargaTotal}\")"
   ]
  },
  {
   "cell_type": "markdown",
   "id": "82ac6e68-5f9d-4da8-8e49-da5d36c6d735",
   "metadata": {},
   "source": [
    "<h4>Program beasiswa:\n",
    "\n",
    "Jika nilai rapor ≥ 90 dan penghasilan orang tua < Rp 5.000.000 → Beasiswa Penuh\n",
    "Jika nilai rapor ≥ 85 dan penghasilan orang tua < Rp 8.000.000 → Beasiswa 50%\n",
    "Jika tidak memenuhi syarat di atas → Tidak mendapatkan beasiswa</h4>"
   ]
  },
  {
   "cell_type": "code",
   "execution_count": 17,
   "id": "9f7aabfa-5801-43be-8d74-a46bd05e61d6",
   "metadata": {},
   "outputs": [
    {
     "name": "stdin",
     "output_type": "stream",
     "text": [
      "Masukan nilai rapor: 90\n",
      "Masukan penghasilan orang tua: 500000\n"
     ]
    },
    {
     "name": "stdout",
     "output_type": "stream",
     "text": [
      "Beasiswa Penuh\n"
     ]
    }
   ],
   "source": [
    "nilaiRapor = int(input(\"Masukan nilai rapor:\"))\n",
    "penghasilanOrTu = int(input(\"Masukan penghasilan orang tua:\"))\n",
    "\n",
    "if nilaiRapor >= 90 and penghasilanOrTu < 5000000:\n",
    "    print(\"Beasiswa Penuh\")\n",
    "elif nilaiRapor >= 85 and penghasilanOrTu < 8000000:\n",
    "    print(\"Beasiswa 50%\")\n",
    "    \n",
    "else:\n",
    "    print(\"Tidak mendapatkan beasiswa\")"
   ]
  },
  {
   "cell_type": "markdown",
   "id": "10b68722-89b7-4423-a896-ec91c1db4021",
   "metadata": {},
   "source": [
    "<h4>Beasiswa Penuh\n",
    "Suatu aplikasi streaming memiliki batasan usia:\n",
    "\n",
    "Film Semua Umur: Bisa ditonton oleh siapa saja\n",
    "Film Remaja: Hanya untuk usia ≥ 13 tahun\n",
    "Film Dewasa: Hanya untuk usia ≥ 18 tahun\n",
    "Buat program yang meminta input usia dan kategori film, lalu tentukan apakah seseorang boleh menonton film tersebut atau tidak.</h4>"
   ]
  },
  {
   "cell_type": "code",
   "execution_count": 22,
   "id": "0a62c0e3-3a0b-4c18-9ffe-155fb0f97023",
   "metadata": {},
   "outputs": [
    {
     "name": "stdin",
     "output_type": "stream",
     "text": [
      "Masukan usia: 13\n"
     ]
    },
    {
     "name": "stdout",
     "output_type": "stream",
     "text": [
      "Kategori Film: \n",
      "- Semua Umur \n",
      "- Remaja \n",
      "- Dewasa\n"
     ]
    },
    {
     "name": "stdin",
     "output_type": "stream",
     "text": [
      "Masukan kategori film: horor\n"
     ]
    },
    {
     "name": "stdout",
     "output_type": "stream",
     "text": [
      "Tidak boleh menonton film\n"
     ]
    }
   ],
   "source": [
    "usia = int(input(\"Masukan usia:\"))\n",
    "print(f\"Kategori Film: \\n- Semua Umur \\n- Remaja \\n- Dewasa\")\n",
    "film = input(\"Masukan kategori film:\")\n",
    "\n",
    "if usia >= 13 and film == \"Remaja\":\n",
    "    print(\"Boleh menonton film\")\n",
    "elif usia >= 18 and film == \"Dewasa\":\n",
    "    print(\"Boleh menonton film\")\n",
    "elif usia >= 0 and film == \"Semua Umur\":\n",
    "    print(\"Boleh menonton film\")\n",
    "else:\n",
    "    print(\"Tidak boleh menonton film\")"
   ]
  },
  {
   "cell_type": "markdown",
   "id": "f84cb6b0-eaee-413a-bf0b-ab20c4ec0f23",
   "metadata": {},
   "source": [
    "<h4>Sebuah toko memberikan diskon berdasarkan jumlah pembelian:\n",
    "\n",
    "Jika total belanja ≥ Rp 500.000 → Diskon 20%\n",
    "Jika total belanja ≥ Rp 250.000 → Diskon 10%\n",
    "Jika total belanja < Rp 250.000 → Tidak ada diskon\n",
    "Hitung harga akhir setelah diskon.</h4>"
   ]
  },
  {
   "cell_type": "code",
   "execution_count": 29,
   "id": "67c26ef1-aef4-41e0-8f25-c8805ae65024",
   "metadata": {},
   "outputs": [
    {
     "name": "stdin",
     "output_type": "stream",
     "text": [
      "Masukan total belanja: 650000\n"
     ]
    },
    {
     "name": "stdout",
     "output_type": "stream",
     "text": [
      "\n",
      "Total belanja sebelum diskon: Rp 650000\n",
      "\n",
      "Anda mendapat diskon sebesar 20.0%\n",
      "\n",
      "Harga akhir setelah mendapatkan diskon 20.0% adalah Rp 520000.0\n"
     ]
    }
   ],
   "source": [
    "totalBelanja = int(input(\"Masukan total belanja:\"))\n",
    "\n",
    "if totalBelanja >= 500000:\n",
    "    diskon = 0.20\n",
    "elif totalBelanja >= 250000:\n",
    "    diskon = 0.10\n",
    "else:\n",
    "    diskon = 0\n",
    "\n",
    "totalSetelahDiskon = totalBelanja * diskon\n",
    "hargaAkhir = totalBelanja - totalSetelahDiskon\n",
    "\n",
    "print(f\"\\nTotal belanja sebelum diskon: Rp {totalBelanja}\")\n",
    "print(f\"\\nAnda mendapat diskon sebesar {diskon * 100}%\")\n",
    "print(f\"\\nHarga akhir setelah mendapatkan diskon {diskon * 100}% adalah Rp {hargaAkhir}\")\n"
   ]
  },
  {
   "cell_type": "markdown",
   "id": "1263bccb-a0b3-475f-9bd3-1f69e365d448",
   "metadata": {},
   "source": [
    "<h4>Program parkir:\n",
    "\n",
    "Mobil: Rp 5.000 per jam\n",
    "Motor: Rp 2.000 per jam\n",
    "Jika parkir lebih dari 5 jam, ada biaya tambahan Rp 10.000\n",
    "Hitung total biaya parkir berdasarkan jenis kendaraan dan durasi parkir.</h4>"
   ]
  },
  {
   "cell_type": "markdown",
   "id": "69970793-d970-4f53-be88-fb659c7e3531",
   "metadata": {},
   "source": [
    "print(f\"Program parkir: \\n- Mobil \\n- Motor\\n\")\n",
    "kendaraan = input(\"Masukan kategori kendaraan:\")\n",
    "\n",
    "print(f\"\\nProgram parkir: \\nMobil: Rp 5.000 per jam \\nMotor: Rp 2.000 per jam \\nJika parkir lebih dari 5 jam, ada biaya tambahan Rp 10.000 !!!\\n\")\n",
    "jamParkir = int(input(\"Masukan berapa jam anda parkir:\"))\n",
    "\n",
    "if kendaraan == \"Mobil\":\n",
    "    biayaPerJam = 5000\n",
    "elif kendaraan == \"Motor\":\n",
    "    biayaPerJam = 2000\n",
    "\n",
    "biaya = biayaPerJam * jamParkir\n",
    "if jamParkir > 5:\n",
    "    biaya += 10000\n",
    "    print(f\"\\nKarena parkir lebih dari 5 jam, ada biaya tambahan Rp 10.000\")\n",
    "\n",
    "print(f\"\\nTotal biaya parkir adalah Rp {biaya}\")\n"
   ]
  },
  {
   "cell_type": "markdown",
   "id": "4f244dc0-f664-4912-bf5c-3be019a46cd4",
   "metadata": {},
   "source": [
    "<h4>Aplikasi transportasi online memiliki tarif sebagai berikut:\n",
    "\n",
    "Jika jarak ≤ 5 km → Rp 5.000/km\n",
    "Jika jarak 6-10 km → Rp 4.000/km\n",
    "Jika jarak > 10 km → Rp 3.000/km\n",
    "Hitung tarif perjalanan berdasarkan jarak yang dimasukkan pengguna.</h4>"
   ]
  },
  {
   "cell_type": "code",
   "execution_count": 11,
   "id": "5d1830c3-2ec9-4a72-9577-633bbb99dd32",
   "metadata": {},
   "outputs": [
    {
     "name": "stdin",
     "output_type": "stream",
     "text": [
      "Masukkan jarak perjalanan:  5\n"
     ]
    },
    {
     "name": "stdout",
     "output_type": "stream",
     "text": [
      "Tarif perjalanan untuk 5 km adalah: Rp 25000\n"
     ]
    }
   ],
   "source": [
    "jarak = int(input(\"Masukkan jarak perjalanan: \"))\n",
    "\n",
    "if jarak <= 5:\n",
    "    tarif_per_km = 5000\n",
    "elif jarak <= 10:\n",
    "    tarif_per_km = 4000\n",
    "else:\n",
    "    tarif_per_km = 3000\n",
    "\n",
    "totalTarif = tarif_per_km * jarak\n",
    "\n",
    "print(f\"Tarif perjalanan untuk {jarak} km adalah: Rp {totalTarif}\")"
   ]
  },
  {
   "cell_type": "markdown",
   "id": "0e2a0c28-743b-4af4-9fac-328a66aab32f",
   "metadata": {},
   "source": [
    "<h4>Buatlah sebuah sistem penerimaan calon programmer yang akan menerima dua nilai ( nilai coding dan nilai interview). Untuk penilaian test coding skala penilaian yang diberikan dimulai dari 0 hingga 100 dengan sistem penilaian:\n",
    "\n",
    "ketika seseorang mendapatkan nilai lebih dari 80 maka peserta tersebut akan mendapatkan hasil tes LOLOS\n",
    "ketika sesorang mendapatkan nilai diantara 60 hingga 80 maka peserta tersebut mendapatkan hasil tes DIPERTIMBANGKAN\n",
    "ketika seseorang mendapatkan nilai dibawah 60 maka peserta tersebut mendapatkan hasil tes GAGAL.\n",
    "Sedangkan untuk penilaian interview adalah\n",
    "\n",
    "ketika nilai yang diberikan kepada seseorang tersebut adalah \"A\" atau \"B\" maka peserta tersebut dianggap LOLOS interview\n",
    "selain kedua nilai tersebut maka peserta dianggap GAGAL tes interview.\n",
    "Ketika calon programmer mendapatkan nilai coding LOLOS atau DIPERTIMBANGKAN dan juga LOLOS test interview maka tampilkanlah pesan \"Selamat Kamu Berhasil Menjadi Calon Programmer\". \n",
    "Jika tidak maka tampilkanlah pesan \"Maaf Kamu Belum Berhasil Menjadi Calon Programmer\"</h4>"
   ]
  },
  {
   "cell_type": "code",
   "execution_count": 15,
   "id": "167a1439-2f5e-4dc1-9414-180c50ca36df",
   "metadata": {},
   "outputs": [
    {
     "name": "stdin",
     "output_type": "stream",
     "text": [
      "Masukkan nilai coding (0-100):  50\n",
      "Masukkan nilai interview (A/B/C/D/E):  A\n"
     ]
    },
    {
     "name": "stdout",
     "output_type": "stream",
     "text": [
      "Maaf Kamu Belum Berhasil Menjadi Calon Programmer\n"
     ]
    }
   ],
   "source": [
    "nilaiCoding = int(input(\"Masukkan nilai coding (0-100): \"))\n",
    "\n",
    "nilaiInterview = input(\"Masukkan nilai interview (A/B/C/D/E): \")\n",
    "\n",
    "# Penilaian nilai coding\n",
    "if nilaiCoding > 80:\n",
    "    hasilCoding = \"LOLOS\"\n",
    "elif nilaiCoding >= 60:\n",
    "    hasilCoding = \"DIPERTIMBANGKAN\"\n",
    "else:\n",
    "    hasilCoding = \"GAGAL\"\n",
    "\n",
    "# Penilaian nilai interview\n",
    "if nilaiInterview == \"A\" or nilaiInterview == \"B\":\n",
    "    hasilInterview = \"LOLOS\"\n",
    "else:\n",
    "    hasilInterview = \"GAGAL\"\n",
    "\n",
    "# Menentukan kelulusan calon programmer\n",
    "if (hasilCoding == \"LOLOS\" or hasilCoding == \"DIPERTIMBANGKAN\") and hasilInterview == \"LOLOS\":\n",
    "    print(\"Selamat Kamu Berhasil Menjadi Calon Programmer\")\n",
    "else:\n",
    "    print(\"Maaf Kamu Belum Berhasil Menjadi Calon Programmer\")"
   ]
  },
  {
   "cell_type": "markdown",
   "id": "006cf1b1-2079-4137-ae32-0748f486974a",
   "metadata": {},
   "source": [
    "<h4>Selamat Kamu Berhasil Menjadi Calon Programmer\n",
    "Sebuah klub sepak bola “PERSEGI FC” mempunyai aturan dalam memberikan nomor punggung bagi para pemainnya. Para pemain diperbolehkan mempunyai posisi lebih dari 1. Berikut adalah beberapa aturannya:\n",
    "\n",
    "1.Untuk nomor punggung genap, digunakan untuk posisi “target attacker”\n",
    "\n",
    "2.Untuk nomor punggung genap antara 50 – 100, digunakan untuk pemain yang “berhak dipilih menjadi capten team”\n",
    "\n",
    "3.Untuk nomor punggung ganjil, digunakan untuk posisi “defender”\n",
    "\n",
    "4.Untuk nomor punggung ganjil lebih dari 90, digunakan untuk posisi “Playmaker”\n",
    "\n",
    "5.Untuk nomor punggung ganjil kelipatan dari 3 dan 5, digunakan untuk posisi “keeper”\n",
    "\n",
    "Buatlah program untuk melakukan pengecekan sebuah nomor punggung dapat berfungsi sebagai posisi apa saja.</h4>"
   ]
  },
  {
   "cell_type": "code",
   "execution_count": 20,
   "id": "48251343-8890-4781-b927-990d79af7e45",
   "metadata": {},
   "outputs": [
    {
     "name": "stdin",
     "output_type": "stream",
     "text": [
      "Masukkan nomor punggung:  2\n"
     ]
    },
    {
     "name": "stdout",
     "output_type": "stream",
     "text": [
      "Target Attacker\n"
     ]
    }
   ],
   "source": [
    "nomorPunggung = int(input(\"Masukkan nomor punggung: \"))\n",
    "\n",
    "if nomorPunggung % 2 == 0:\n",
    "    posisi = \"Target Attacker\"\n",
    "    if nomorPunggung >= 50 and nomorPunggung <= 100:\n",
    "        posisi = \"Pemain ini berhak dipilih menjadi captain team\"\n",
    "else:\n",
    "    posisi = \"Defender\"\n",
    "    if nomorPunggung > 90:\n",
    "        posisi = \"Playmaker\"\n",
    "    if nomorPunggung % 3 == 0 and nomorPunggung % 5 == 0:\n",
    "        posisi = \"Keeper\"\n",
    "\n",
    "print(posisi)"
   ]
  },
  {
   "cell_type": "code",
   "execution_count": null,
   "id": "94a18ba7-c1e9-45a2-9427-76db442e68c4",
   "metadata": {},
   "outputs": [],
   "source": []
  }
 ],
 "metadata": {
  "kernelspec": {
   "display_name": "Python [conda env:anaconda3]",
   "language": "python",
   "name": "conda-env-anaconda3-py"
  },
  "language_info": {
   "codemirror_mode": {
    "name": "ipython",
    "version": 3
   },
   "file_extension": ".py",
   "mimetype": "text/x-python",
   "name": "python",
   "nbconvert_exporter": "python",
   "pygments_lexer": "ipython3",
   "version": "3.12.7"
  }
 },
 "nbformat": 4,
 "nbformat_minor": 5
}

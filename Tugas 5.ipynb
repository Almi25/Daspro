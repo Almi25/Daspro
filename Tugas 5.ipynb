{
 "cells": [
  {
   "cell_type": "markdown",
   "id": "7842cecb-de49-4a84-b045-cf980524cdb1",
   "metadata": {},
   "source": [
    "<h2>Nomor 1</h2>"
   ]
  },
  {
   "cell_type": "code",
   "execution_count": 2,
   "id": "5d5770a4-dd1a-418a-a76e-5a8613102820",
   "metadata": {},
   "outputs": [
    {
     "name": "stdin",
     "output_type": "stream",
     "text": [
      "Masukkan Nama Lengkap Anda:  Almi Rabithah Fahmi\n",
      "Masukkan TTL Anda:  26 February 2005\n",
      "Masukkan Alamat Anda:  Sulawesi Tenggara, Kendari\n",
      "Masukkan Jenis Kelamin Anda:  Prempuan\n",
      "Masukkan Agama Anda:  Islam\n"
     ]
    },
    {
     "name": "stdout",
     "output_type": "stream",
     "text": [
      "Nama Lengkap : Almi Rabithah Fahmi\n",
      "TTL : 26 February 2005\n",
      "Alamat : Sulawesi Tenggara, Kendari\n",
      "Jenis Kelamin : Prempuan\n",
      "Agama : Islam\n"
     ]
    }
   ],
   "source": [
    "NamaLengkap = input(\"Masukkan Nama Lengkap Anda: \")\n",
    "TTL = input(\"Masukkan TTL Anda: \")\n",
    "Alamat = input(\"Masukkan Alamat Anda: \")\n",
    "JenisKelamin = input(\"Masukkan Jenis Kelamin Anda: \")\n",
    "Agama = input(\"Masukkan Agama Anda: \")\n",
    "    \n",
    "print(\"Nama Lengkap : {}\".format(NamaLengkap))\n",
    "print(\"TTL : {}\".format(TTL))\n",
    "print(\"Alamat : {}\".format(Alamat))\n",
    "print(\"Jenis Kelamin : {}\".format(JenisKelamin))\n",
    "print(\"Agama : {}\".format(Agama))"
   ]
  },
  {
   "cell_type": "markdown",
   "id": "1441e299-12a3-4629-93bc-40c32651b9ac",
   "metadata": {},
   "source": [
    "<h2>Nomor 2</h2>"
   ]
  },
  {
   "cell_type": "code",
   "execution_count": 1,
   "id": "806c172c-0a0d-43e1-9ab2-313d02aa4a19",
   "metadata": {},
   "outputs": [
    {
     "name": "stdout",
     "output_type": "stream",
     "text": [
      "a. nusa putra\n",
      "b. NIVERSITAS NSA PTRA SKABMI\n",
      "c. SUKABUMI PUTRA NUSA UNIVERSITAS\n",
      "d. UNPS\n",
      "e. TAS SAPU BUMI\n"
     ]
    }
   ],
   "source": [
    "text = \"UNIVERSITAS NUSA PUTRA SUKABUMI\"\n",
    "\n",
    "# a. putra nusa\n",
    "output_a = \" \".join(text.split()[1:3]).lower()\n",
    "\n",
    "# b. NIVERSITAS NSA PTRA SKABMI\n",
    "output_b = text.replace(\"U\", \"\").replace(\"O\", \"\")\n",
    "\n",
    "# c. SUKABUMI PUTRA NUSA UNIVERSITAS\n",
    "output_c = \" \".join(reversed(text.split()))\n",
    "\n",
    "# d. UNPS\n",
    "output_d = \"\".join([word[0] for word in text.split()])\n",
    "\n",
    "# e. TAS SAPU BUMI\n",
    "output_e = \"TAS SAPU BUMI\"\n",
    "\n",
    "print(\"a.\", output_a)\n",
    "print(\"b.\", output_b)\n",
    "print(\"c.\", output_c)\n",
    "print(\"d.\", output_d)\n",
    "print(\"e.\", output_e)"
   ]
  },
  {
   "cell_type": "code",
   "execution_count": null,
   "id": "2c568961-33ec-4de1-9bec-c87b3c7c058d",
   "metadata": {},
   "outputs": [],
   "source": []
  }
 ],
 "metadata": {
  "kernelspec": {
   "display_name": "Python [conda env:anaconda3]",
   "language": "python",
   "name": "conda-env-anaconda3-py"
  },
  "language_info": {
   "codemirror_mode": {
    "name": "ipython",
    "version": 3
   },
   "file_extension": ".py",
   "mimetype": "text/x-python",
   "name": "python",
   "nbconvert_exporter": "python",
   "pygments_lexer": "ipython3",
   "version": "3.12.7"
  }
 },
 "nbformat": 4,
 "nbformat_minor": 5
}

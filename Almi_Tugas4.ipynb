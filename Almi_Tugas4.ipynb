{
 "cells": [
  {
   "cell_type": "markdown",
   "id": "35b2eca0-e2d0-49b2-b151-6eed82648775",
   "metadata": {},
   "source": [
    "<h2>1. Operator Aritmatika</h2>"
   ]
  },
  {
   "cell_type": "code",
   "execution_count": 3,
   "id": "9fe4629d-5e12-4a69-b56e-8ab26dde1eb9",
   "metadata": {},
   "outputs": [
    {
     "name": "stdout",
     "output_type": "stream",
     "text": [
      "a. Jika Budi memiliki 12 apel, maka setiap teman budi akan mendapatkan 3 buah apel\n",
      "b. Jika budi diberi 8 apel tambahan, maka total buah apel yang dimiliki Budi yaitu 20 buah apel\n"
     ]
    }
   ],
   "source": [
    "apelBudi = 12\n",
    "temanBudi = 4\n",
    "apelTambahan = 8\n",
    "\n",
    "print (\"a. Jika Budi memiliki 12 apel, maka setiap teman budi akan mendapatkan\", apelBudi//temanBudi, \"buah apel\")\n",
    "\n",
    "print (\"b. Jika budi diberi 8 apel tambahan, maka total buah apel yang dimiliki Budi yaitu\", apelBudi + apelTambahan, \"buah apel\")"
   ]
  },
  {
   "cell_type": "markdown",
   "id": "43620044-1a5c-4d0b-980f-b5ed4fad263d",
   "metadata": {},
   "source": [
    "<h2>2. Operator Perbandingan</h2>"
   ]
  },
  {
   "cell_type": "code",
   "execution_count": 6,
   "id": "52efa90d-24f7-40db-a9d7-26c405743097",
   "metadata": {},
   "outputs": [
    {
     "name": "stdout",
     "output_type": "stream",
     "text": [
      "Apakah tinggi Siti = tinggi Andi?: False\n",
      "Apakah tinggi Siti != tinggi Andi?: True\n",
      "Apakah tinggi Siti > tinggi Andi?: False\n",
      "Apakah tinggi Siti >= tinggi Andi?: False\n",
      "Apakah tinggi Siti < tinggi Andi?: True\n",
      "Apakah tinggi Siti <= tinggi Andi?: True\n",
      "jadi yang memiliki tinggi badan lebih tinggi antara Siti dan Andi adalah  Andi\n"
     ]
    }
   ],
   "source": [
    "tinggiSiti = 160\n",
    "tinggiAndi = 165\n",
    "\n",
    "print (\"Apakah tinggi Siti = tinggi Andi?:\", tinggiSiti==tinggiAndi)\n",
    "print (\"Apakah tinggi Siti != tinggi Andi?:\", tinggiSiti!=tinggiAndi)\n",
    "print (\"Apakah tinggi Siti > tinggi Andi?:\", tinggiSiti>tinggiAndi)\n",
    "print (\"Apakah tinggi Siti >= tinggi Andi?:\", tinggiSiti>=tinggiAndi)\n",
    "print (\"Apakah tinggi Siti < tinggi Andi?:\", tinggiSiti<tinggiAndi)\n",
    "print (\"Apakah tinggi Siti <= tinggi Andi?:\", tinggiSiti<=tinggiAndi)\n",
    "\n",
    "print(\"jadi yang memiliki tinggi badan lebih tinggi antara Siti dan Andi adalah \", \"Andi\" if tinggiAndi > tinggiSiti else \"Siti\")"
   ]
  },
  {
   "cell_type": "markdown",
   "id": "dcc42b33-e527-4a92-b357-e69eb0dbd172",
   "metadata": {},
   "source": [
    "<h2>3. Operator Logika</h2>"
   ]
  },
  {
   "cell_type": "code",
   "execution_count": 9,
   "id": "f2b32afa-86d2-4298-bec3-45f98793baf2",
   "metadata": {},
   "outputs": [
    {
     "name": "stdout",
     "output_type": "stream",
     "text": [
      "Apakah Budi bisa bermain di luar? True\n"
     ]
    }
   ],
   "source": [
    "cuacaCerah = True  \n",
    "prSelesai = True   \n",
    "\n",
    "bisaBermain = cuacaCerah and prSelesai  \n",
    "print(\"Apakah Budi bisa bermain di luar?\", bisaBermain )"
   ]
  },
  {
   "cell_type": "markdown",
   "id": "5c7be023-171f-4431-980a-f5625dd5481a",
   "metadata": {},
   "source": [
    "<h2>4. Operator Bitwise</h2>"
   ]
  },
  {
   "cell_type": "code",
   "execution_count": 13,
   "id": "e1b14801-0498-4084-b430-ee882b46c07a",
   "metadata": {},
   "outputs": [
    {
     "name": "stdout",
     "output_type": "stream",
     "text": [
      "Biner dari  6 : 0b110\n",
      "Biner dari  3 : 0b11\n",
      "0b110\n",
      "0b11\n",
      "------- &\n",
      "0b10\n",
      "Hasil desimalnya adalah:  2\n",
      "0b110\n",
      "0b11\n",
      "------- |\n",
      "0b111\n",
      "Hasil desimalnya adalah:  7\n",
      "0b110\n",
      "0b11\n",
      "------- ^\n",
      "0b101\n",
      "Hasil desimalnya adalah:  5\n"
     ]
    }
   ],
   "source": [
    "num1 = 6\n",
    "num2 = 3\n",
    "print (\"Biner dari \", num1,\":\", bin (num1))\n",
    "print (\"Biner dari \", num2,\":\", bin (num2))\n",
    "\n",
    "#Bitwise &\n",
    "bitwiseAnd = num1 & num2\n",
    "print (bin(num1))\n",
    "print (bin(num2))\n",
    "print (\"------- &\")\n",
    "print (bin(bitwiseAnd))\n",
    "print (\"Hasil desimalnya adalah: \", bitwiseAnd)\n",
    "\n",
    "#Bitwise Or (|)\n",
    "bitwiseOr = num1|num2\n",
    "print (bin(num1))\n",
    "print (bin(num2))\n",
    "print (\"------- |\")\n",
    "print (bin(bitwiseOr))\n",
    "print (\"Hasil desimalnya adalah: \", bitwiseOr)\n",
    "\n",
    "#Bitwise XOR (^)\n",
    "bitwiseXor = num1^num2\n",
    "print (bin(num1))\n",
    "print (bin(num2))\n",
    "print (\"------- ^\")\n",
    "print (bin(bitwiseXor))\n",
    "print (\"Hasil desimalnya adalah: \", bitwiseXor)"
   ]
  },
  {
   "cell_type": "markdown",
   "id": "1a9d47da-246f-48b4-ab16-4d39baee72c2",
   "metadata": {},
   "source": [
    "<h2>5. Operator Penugasan</h2>"
   ]
  },
  {
   "cell_type": "code",
   "execution_count": 16,
   "id": "47f448af-fecd-4d45-bb43-d213f1798472",
   "metadata": {},
   "outputs": [
    {
     "name": "stdout",
     "output_type": "stream",
     "text": [
      "Saldo pulsa awal yang dimiliki Siswa  : 50000\n",
      "Saldo pulsa setelah ditambahkan saldo : 70000\n",
      "Saldo pulsa setelah dibelikan paket internet:  40000\n",
      "Maka sisa saldo pulsa yang dimiliki siswa adalah 40000\n"
     ]
    }
   ],
   "source": [
    "saldoSiswa = 50000\n",
    "isiSaldo = 20000\n",
    "paketInternet = 30000\n",
    "\n",
    "print(\"Saldo pulsa awal yang dimiliki Siswa  :\", saldoSiswa)\n",
    "saldoSiswa+=isiSaldo\n",
    "print(\"Saldo pulsa setelah ditambahkan saldo :\", saldoSiswa)\n",
    "saldoSiswa-=paketInternet\n",
    "print(\"Saldo pulsa setelah dibelikan paket internet: \", saldoSiswa)\n",
    "\n",
    "print (\"Maka sisa saldo pulsa yang dimiliki siswa adalah\", saldoSiswa)"
   ]
  },
  {
   "cell_type": "markdown",
   "id": "c2738ae5-59ea-4e5c-8338-7c44319993a6",
   "metadata": {},
   "source": [
    "<h2>6. Operator Keanggotaan</h2>"
   ]
  },
  {
   "cell_type": "code",
   "execution_count": 19,
   "id": "c0b771fd-132b-4ec1-9a99-76e5cc03de2a",
   "metadata": {},
   "outputs": [
    {
     "name": "stdout",
     "output_type": "stream",
     "text": [
      "Apakah Eka terdaftar? False\n",
      "Apakah kata pyhton ada di kalimat True\n"
     ]
    }
   ],
   "source": [
    "nama = \"Eka\"\n",
    "listPeserta = [\"Andi\",\"Budi\",\"Citra\",\"Dewi\"]\n",
    "\n",
    "print(\"Apakah Eka terdaftar?\",nama in listPeserta)\n",
    "\n",
    "kalimat = \"Saya suka belajar bahasa pyhton\"\n",
    "cariKata = \"pyhton\"\n",
    "\n",
    "print(\"Apakah kata\",cariKata,\"ada di kalimat\",cariKata in kalimat)"
   ]
  },
  {
   "cell_type": "markdown",
   "id": "9eaf9b2d-2f9b-424d-86ca-2a6e39679ffc",
   "metadata": {},
   "source": [
    "<h2>7. Operator Identitas</h2>"
   ]
  },
  {
   "cell_type": "code",
   "execution_count": 22,
   "id": "62206b1c-371c-4b62-9448-05e6f54dccdf",
   "metadata": {},
   "outputs": [
    {
     "name": "stdout",
     "output_type": "stream",
     "text": [
      "Apakah x dan y merujuk ke objek yang sama dalam memori? True\n",
      "Apakah x dan y di list tersebut mengacu ke objek yang sama True\n",
      "Apakah list1 dan list2 mengacu ke objek yang sama False\n"
     ]
    }
   ],
   "source": [
    "x = 15\n",
    "y = 15\n",
    "print (\"Apakah x dan y merujuk ke objek yang sama dalam memori?\", x is y)\n",
    "\n",
    "x =\"Nanda\"\n",
    "y =\"Nanda\"\n",
    "\n",
    "print (\"Apakah x dan y di list tersebut mengacu ke objek yang sama\", x is y)\n",
    "\n",
    "list1 = [\"Nanda\", \"Meysha\", \"Dhea\", \"Clara\"]\n",
    "list2 = [\"Nanda\", \"Meysha\", \"Dhea\", \"Clara\"]\n",
    "\n",
    "print (\"Apakah list1 dan list2 mengacu ke objek yang sama\", list1 is list2)"
   ]
  },
  {
   "cell_type": "markdown",
   "id": "6a592606-1dd9-4721-ae20-46e7aa8181cd",
   "metadata": {},
   "source": [
    "<h2>8. Operator Ternary</h2>"
   ]
  },
  {
   "cell_type": "code",
   "execution_count": 25,
   "id": "aefd1625-ab61-4faf-9248-4ae95c926229",
   "metadata": {},
   "outputs": [
    {
     "name": "stdin",
     "output_type": "stream",
     "text": [
      "Masukkan angka: 80\n"
     ]
    },
    {
     "name": "stdout",
     "output_type": "stream",
     "text": [
      "Angka tidak lebih besar dari 100\n"
     ]
    },
    {
     "name": "stdin",
     "output_type": "stream",
     "text": [
      "Masukkan Nilai Ujian: 70\n"
     ]
    },
    {
     "name": "stdout",
     "output_type": "stream",
     "text": [
      "Lulus\n"
     ]
    }
   ],
   "source": [
    "angka = int (input(\"Masukkan angka:\"))\n",
    "hasil = \"Angka lebih besar dari 100\" if angka > 100 else \"Angka tidak lebih besar dari 100\"\n",
    "print(hasil)\n",
    "\n",
    "nilaiUjian= int (input(\"Masukkan Nilai Ujian:\"))\n",
    "\n",
    "kelulusan = \"Lulus\" if angka > 70 else \"Tidak lulus\" \n",
    "print(kelulusan)"
   ]
  },
  {
   "cell_type": "code",
   "execution_count": null,
   "id": "792274de-a3e8-436f-a026-d91cbf13a8e8",
   "metadata": {},
   "outputs": [],
   "source": []
  }
 ],
 "metadata": {
  "kernelspec": {
   "display_name": "Python [conda env:anaconda3]",
   "language": "python",
   "name": "conda-env-anaconda3-py"
  },
  "language_info": {
   "codemirror_mode": {
    "name": "ipython",
    "version": 3
   },
   "file_extension": ".py",
   "mimetype": "text/x-python",
   "name": "python",
   "nbconvert_exporter": "python",
   "pygments_lexer": "ipython3",
   "version": "3.12.7"
  }
 },
 "nbformat": 4,
 "nbformat_minor": 5
}
